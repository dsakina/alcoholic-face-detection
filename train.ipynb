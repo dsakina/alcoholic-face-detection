{
 "cells": [
  {
   "cell_type": "code",
   "execution_count": 1,
   "metadata": {},
   "outputs": [
    {
     "name": "stderr",
     "output_type": "stream",
     "text": [
      "Using TensorFlow backend.\n"
     ]
    }
   ],
   "source": [
    "import warnings\n",
    "warnings.filterwarnings('ignore')\n",
    "import sys\n",
    "import numpy as np\n",
    "import pandas as pd\n",
    "from keras.models import Sequential\n",
    "from keras.layers import Dense, Activation, Dropout\n",
    "from keras import optimizers\n",
    "from sklearn.utils import shuffle\n",
    "from keras.callbacks import ModelCheckpoint\n",
    "from keras.callbacks import EarlyStopping"
   ]
  },
  {
   "cell_type": "code",
   "execution_count": 2,
   "metadata": {},
   "outputs": [],
   "source": [
    "def read_data(drunkfile, normalfile):\n",
    "    drunk = pd.read_csv(drunkfile)\n",
    "    normal = pd.read_csv(normalfile)\n",
    "    data = pd.concat([drunk, normal])\n",
    "    ans_list = [1]*len(drunk) + [0]*len(normal)\n",
    "    return data[['smile','anger','contempt','disgust','fear','happiness','neutral','sadness','surprise','eyeOccluded']].values, ans_list"
   ]
  },
  {
   "cell_type": "code",
   "execution_count": 3,
   "metadata": {},
   "outputs": [],
   "source": [
    "X_train, Y_train = read_data(\"drunk.csv\", \"normal.csv\")"
   ]
  },
  {
   "cell_type": "code",
   "execution_count": 4,
   "metadata": {},
   "outputs": [],
   "source": [
    "X_train, Y_train = np.array(X_train), np.array(Y_train)"
   ]
  },
  {
   "cell_type": "code",
   "execution_count": 5,
   "metadata": {},
   "outputs": [],
   "source": [
    "X_train[X_train==True] = 1\n",
    "X_train[X_train==False] = 0"
   ]
  },
  {
   "cell_type": "code",
   "execution_count": 6,
   "metadata": {},
   "outputs": [],
   "source": [
    "(X_train, Y_train) = shuffle(X_train, Y_train)"
   ]
  },
  {
   "cell_type": "code",
   "execution_count": 7,
   "metadata": {},
   "outputs": [],
   "source": [
    "X_train, X_valid = X_train[:-50], X_train[-50:]\n",
    "Y_train, Y_valid = Y_train[:-50], Y_train[-50:]"
   ]
  },
  {
   "cell_type": "code",
   "execution_count": 8,
   "metadata": {
    "scrolled": false
   },
   "outputs": [
    {
     "name": "stdout",
     "output_type": "stream",
     "text": [
      "Train on 1018 samples, validate on 255 samples\n",
      "Epoch 1/25\n",
      "1018/1018 [==============================] - 1s 624us/step - loss: 0.6232 - accuracy: 0.6444 - val_loss: 0.5810 - val_accuracy: 0.6706\n",
      "Epoch 2/25\n",
      "1018/1018 [==============================] - 0s 222us/step - loss: 0.6228 - accuracy: 0.6434 - val_loss: 0.5750 - val_accuracy: 0.6706\n",
      "Epoch 3/25\n",
      "1018/1018 [==============================] - 0s 221us/step - loss: 0.6177 - accuracy: 0.6434 - val_loss: 0.5827 - val_accuracy: 0.6706\n",
      "Epoch 4/25\n",
      "1018/1018 [==============================] - 0s 213us/step - loss: 0.6139 - accuracy: 0.6434 - val_loss: 0.5812 - val_accuracy: 0.6706\n",
      "Epoch 5/25\n",
      "1018/1018 [==============================] - 0s 221us/step - loss: 0.6023 - accuracy: 0.6473 - val_loss: 0.5565 - val_accuracy: 0.6706\n",
      "Epoch 6/25\n",
      "1018/1018 [==============================] - 0s 220us/step - loss: 0.5878 - accuracy: 0.7141 - val_loss: 0.5389 - val_accuracy: 0.7882\n",
      "Epoch 7/25\n",
      "1018/1018 [==============================] - 0s 224us/step - loss: 0.5608 - accuracy: 0.7446 - val_loss: 0.4934 - val_accuracy: 0.7843\n",
      "Epoch 8/25\n",
      "1018/1018 [==============================] - 0s 233us/step - loss: 0.5465 - accuracy: 0.7525 - val_loss: 0.4903 - val_accuracy: 0.7843\n",
      "Epoch 9/25\n",
      "1018/1018 [==============================] - 0s 216us/step - loss: 0.5585 - accuracy: 0.7505 - val_loss: 0.4866 - val_accuracy: 0.7922\n",
      "Epoch 10/25\n",
      "1018/1018 [==============================] - 0s 245us/step - loss: 0.5396 - accuracy: 0.7623 - val_loss: 0.4852 - val_accuracy: 0.7961\n",
      "Epoch 11/25\n",
      "1018/1018 [==============================] - 0s 257us/step - loss: 0.5418 - accuracy: 0.7633 - val_loss: 0.4817 - val_accuracy: 0.7922\n",
      "Epoch 12/25\n",
      "1018/1018 [==============================] - 0s 315us/step - loss: 0.5164 - accuracy: 0.7770 - val_loss: 0.4647 - val_accuracy: 0.8078\n",
      "Epoch 13/25\n",
      "1018/1018 [==============================] - 0s 319us/step - loss: 0.5242 - accuracy: 0.7701 - val_loss: 0.4575 - val_accuracy: 0.8118\n",
      "Epoch 14/25\n",
      "1018/1018 [==============================] - 0s 249us/step - loss: 0.5345 - accuracy: 0.7741 - val_loss: 0.4633 - val_accuracy: 0.8196\n",
      "Epoch 15/25\n",
      "1018/1018 [==============================] - 0s 239us/step - loss: 0.5170 - accuracy: 0.7721 - val_loss: 0.5057 - val_accuracy: 0.7961\n",
      "Epoch 16/25\n",
      "1018/1018 [==============================] - 0s 247us/step - loss: 0.5253 - accuracy: 0.7721 - val_loss: 0.4611 - val_accuracy: 0.8196\n",
      "Epoch 17/25\n",
      "1018/1018 [==============================] - 0s 254us/step - loss: 0.5176 - accuracy: 0.7682 - val_loss: 0.4538 - val_accuracy: 0.8196\n",
      "Epoch 18/25\n",
      "1018/1018 [==============================] - 0s 265us/step - loss: 0.5141 - accuracy: 0.7829 - val_loss: 0.4636 - val_accuracy: 0.8039\n",
      "Epoch 19/25\n",
      "1018/1018 [==============================] - 0s 216us/step - loss: 0.5046 - accuracy: 0.7839 - val_loss: 0.4400 - val_accuracy: 0.8275\n",
      "Epoch 20/25\n",
      "1018/1018 [==============================] - 0s 275us/step - loss: 0.5068 - accuracy: 0.7809 - val_loss: 0.4392 - val_accuracy: 0.8275\n",
      "Epoch 21/25\n",
      "1018/1018 [==============================] - 0s 223us/step - loss: 0.4957 - accuracy: 0.7908 - val_loss: 0.4592 - val_accuracy: 0.8078\n",
      "Epoch 22/25\n",
      "1018/1018 [==============================] - 0s 227us/step - loss: 0.5059 - accuracy: 0.7947 - val_loss: 0.4535 - val_accuracy: 0.8471\n",
      "Epoch 23/25\n",
      "1018/1018 [==============================] - 0s 220us/step - loss: 0.4906 - accuracy: 0.7947 - val_loss: 0.4377 - val_accuracy: 0.8353\n",
      "Epoch 24/25\n",
      "1018/1018 [==============================] - 0s 207us/step - loss: 0.5196 - accuracy: 0.7868 - val_loss: 0.4423 - val_accuracy: 0.8353\n",
      "Epoch 25/25\n",
      "1018/1018 [==============================] - 0s 270us/step - loss: 0.5044 - accuracy: 0.7967 - val_loss: 0.4475 - val_accuracy: 0.8235\n",
      "50/50 [==============================] - 0s 20us/step\n",
      "0.8199999928474426\n"
     ]
    }
   ],
   "source": [
    "model = Sequential()\n",
    "model.add(Dense(input_dim = X_train.shape[1], units = 10, activation = 'relu'))\n",
    "model.add(Dropout(0.25))\n",
    "model.add(Dense(units = 64, activation = 'relu'))\n",
    "model.add(Dropout(0.25))\n",
    "model.add(Dense(units = 32, activation = 'relu'))\n",
    "model.add(Dropout(0.25))\n",
    "model.add(Dense(units = 8, activation = 'relu'))\n",
    "model.add(Dropout(0.25))\n",
    "model.add(Dense(units = 1, activation = 'sigmoid'))\n",
    "model.compile(loss='binary_crossentropy', optimizer='Adam', metrics=['accuracy'])\n",
    "# callbacks = []\n",
    "# callbacks.append(ModelCheckpoint('models/model-{epoch:05d}-{val_acc:.5f}-{val_loss:.5f}.npy', monitor='val_acc', save_best_only=True, mode = 'auto', period=1))\n",
    "# model.fit(X_train, Y_train, batch_size = 8, epochs = 100, validation_split=0.2, callbacks=callbacks)\n",
    "model.fit(X_train, Y_train, batch_size = 8, epochs = 25, validation_split=0.2)\n",
    "result = model.evaluate(X_valid, Y_valid, batch_size = X_valid.shape[0])\n",
    "print(result[1])"
   ]
  },
  {
   "cell_type": "code",
   "execution_count": 9,
   "metadata": {},
   "outputs": [
    {
     "name": "stdout",
     "output_type": "stream",
     "text": [
      "acc_train =  0.8664571877454831\n",
      "acc_valid =  0.82\n"
     ]
    }
   ],
   "source": [
    "from xgboost import XGBClassifier\n",
    "model2 = XGBClassifier(max_depth=3, n_estimators=200, learning_rate=0.05)\n",
    "model2.fit(X_train, Y_train.flatten())\n",
    "predict_train = model2.predict(X_train)\n",
    "acc_train = np.mean(Y_train.flatten() == predict_train)\n",
    "print(\"acc_train = \", acc_train)\n",
    "predict_valid = model2.predict(X_valid)\n",
    "acc_valid = np.mean(Y_valid.flatten() == predict_valid)\n",
    "print(\"acc_valid = \", acc_valid)"
   ]
  },
  {
   "cell_type": "code",
   "execution_count": 10,
   "metadata": {},
   "outputs": [],
   "source": [
    "model.save(\"model.h5\")"
   ]
  },
  {
   "cell_type": "code",
   "execution_count": 11,
   "metadata": {},
   "outputs": [
    {
     "name": "stdout",
     "output_type": "stream",
     "text": [
      "50/50 [==============================] - 0s 777us/step\n",
      "0.8199999928474426\n"
     ]
    }
   ],
   "source": [
    "from keras.models import load_model\n",
    "model = load_model(\"model.h5\")\n",
    "result = model.evaluate(X_valid, Y_valid, batch_size = X_valid.shape[0])\n",
    "print(result[1])"
   ]
  },
  {
   "cell_type": "code",
   "execution_count": 12,
   "metadata": {},
   "outputs": [
    {
     "name": "stdout",
     "output_type": "stream",
     "text": [
      "[[0.9874679]]\n"
     ]
    }
   ],
   "source": [
    "ans = model.predict(np.array([[0.001,0,0.84,0.021,0.001,0.001,0.064,0.073,0,1]]))\n",
    "print(ans)"
   ]
  },
  {
   "cell_type": "code",
   "execution_count": 13,
   "metadata": {},
   "outputs": [
    {
     "name": "stdout",
     "output_type": "stream",
     "text": [
      "[[0.22729188]]\n"
     ]
    }
   ],
   "source": [
    "ans = model.predict(np.array([[0.003,0,0.002,0,0,0.003,0.935,0,0,0]]))\n",
    "print(ans)"
   ]
  },
  {
   "cell_type": "code",
   "execution_count": null,
   "metadata": {},
   "outputs": [],
   "source": []
  }
 ],
 "metadata": {
  "kernelspec": {
   "display_name": "Python 3",
   "language": "python",
   "name": "python3"
  },
  "language_info": {
   "codemirror_mode": {
    "name": "ipython",
    "version": 3
   },
   "file_extension": ".py",
   "mimetype": "text/x-python",
   "name": "python",
   "nbconvert_exporter": "python",
   "pygments_lexer": "ipython3",
   "version": "3.7.6"
  }
 },
 "nbformat": 4,
 "nbformat_minor": 4
}
